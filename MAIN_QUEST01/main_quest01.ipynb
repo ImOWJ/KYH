{
  "nbformat": 4,
  "nbformat_minor": 0,
  "metadata": {
    "colab": {
      "private_outputs": true,
      "provenance": [],
      "authorship_tag": "ABX9TyP0pWcquZHaZMoyxDpmUzSY",
      "include_colab_link": true
    },
    "kernelspec": {
      "name": "python3",
      "display_name": "Python 3"
    },
    "language_info": {
      "name": "python"
    }
  },
  "cells": [
    {
      "cell_type": "markdown",
      "metadata": {
        "id": "view-in-github",
        "colab_type": "text"
      },
      "source": [
        "<a href=\"https://colab.research.google.com/github/claireyy01/AIFFEL_MAIN_QUEST/blob/main/MAIN_QUEST01/main_quest01.ipynb\" target=\"_parent\"><img src=\"https://colab.research.google.com/assets/colab-badge.svg\" alt=\"Open In Colab\"/></a>"
      ]
    },
    {
      "cell_type": "markdown",
      "source": [
        "# Main Quest 1번 (3점)\n",
        "## Account 클래스 : 계좌 계설하기\n",
        "---"
      ],
      "metadata": {
        "id": "Feyjyw-FL0j5"
      }
    },
    {
      "cell_type": "markdown",
      "source": [
        "## 목차\n",
        "### 1. 코드 구성\n",
        "\n",
        "    Q1. Account 클래스\n",
        "    - 은행에 가서 계좌를 개설하면 은행이름, 예금주, 계좌번호, 잔액이 설정됩니다.\n",
        "    - Account 클래스를 생성한 후 생성자 (hint: 매직매서드..!!)를 구현해보세요. 생성자에서는 예금주와 초기 잔액만 입력 받습니다.\n",
        "    - 은행이름은 SC은행으로 계좌번호는 3자리-2자리-6자리 형태로 랜덤하게 생성됩니다. (은행이름: SC은행, 계좌번호: 111-11-111111)\n",
        "\n",
        "    Q2. 클래스 변수\n",
        "    - 클래스 변수를 사용해서 Account 클래스로부터 생성된 계좌 객체의 개수를 저장하세요.\n",
        "\n",
        "    Q3. 클래스 변수 출력\n",
        "    - Account 클래스로부터 생성된 계좌의 개수를 출력하는 get_account_num() 메서드를 추가하세요.\n",
        "\n",
        "    Q4. 입금 메서드\n",
        "    - Account 클래스에 입금을 위한 deposit 메서드를 추가하세요. 입금은 최소 1원 이상만 가능합니다.\n",
        "\n",
        "    Q5. 출금 메서드\n",
        "    - Account 클래스에 출금을 위한 withdraw 메서드를 추가하세요. 출금은 계좌의 잔고 이상으로 출금할 수는 없습니다.\n",
        "\n",
        "    Q6. 정보 출력 메서드\n",
        "    - Account 인스턴스에 저장된 정보를 출력하는 display_info() 메서드를 추가하세요. 잔고는 세자리마다 쉼표를 출력하세요.\n",
        "    - (은행이름: SC은행, 예금주: 파이썬, 계좌번호: 111-11-111111, 잔고: 10,000원)\n",
        "\n",
        "    Q7. 이자 지급하기\n",
        "    - 입금 횟수가 5회가 될 때 잔고를 기준으로 1%의 이자가 잔고에 추가되도록 코드를 변경해보세요.\n",
        "\n",
        "    Q8. 여러 객체 생성\n",
        "    -  Account 클래스로부터 3개 이상 인스턴스를 생성하고 생성된 인스턴스를 리스트에 저장해보세요.\n",
        "\n",
        "    Q9. 객체 순회 반복문을 통해 리스트에 있는 객체를 순회하면서 잔고가 100만원 이상인 고객의 정보만 출력하세요.\n",
        "\n",
        "    Q10. 입출금 내역\n",
        "    - 입금과 출금 내역이 기록되도록 코드를 업데이트 하세요.\n",
        "    - 입금 내역과 출금 내역을 출력하는 deposit_history와 withdraw_history 메서드를 추가하세요.\n",
        "\n",
        "### 2. 회고\n",
        "---"
      ],
      "metadata": {
        "id": "YyoOVokpL_By"
      }
    },
    {
      "cell_type": "markdown",
      "source": [
        "## 1. 코드 구성\n",
        "### Q1~Q2. Account 클래스 생성과 클래스 변수 생성\n",
        "- 은행이름, 예금주, 계좌번호, 잔액을 포함하여 클래스와 생성자 함수\u001c 생성\n",
        "- 계좌번호가 정상적으로 출력되지 않아 구글링하였고, 이후 과정에서 zfill함수를 활용하여 해결함."
      ],
      "metadata": {
        "id": "1ztD-HzzNcg7"
      }
    },
    {
      "cell_type": "code",
      "source": [
        "import random\n",
        "\n",
        "class Account:\n",
        "    count_accounts = 0    # Q2. 클래스 변수 생성 : 계좌 개수 카운팅\n",
        "\n",
        "    def __init__(self, name, balance):  # 예금주(name), 초기 잔액(balance)만 입력 받기\n",
        "        self.name = name\n",
        "        self.balance = balance\n",
        "        self.bank = 'SC은행'\n",
        "        num1 = random.randint(0, 999)\n",
        "        num2 = random.randint(0, 99)\n",
        "        num3 = random.randint(0, 999999)\n",
        "        self.number = 'num1' + '-' + 'num2' + '-' + 'num3'    # 계좌번호 생성 -> 난수가 들어가려면?\n",
        "\n",
        "\n",
        "a = Account('홍길동', 100)\n",
        "print(a.name)\n",
        "print(a.balance)\n",
        "print(a.bank)\n",
        "print(a.number)\n"
      ],
      "metadata": {
        "id": "Jgt6Pp1uD_zY"
      },
      "execution_count": null,
      "outputs": []
    },
    {
      "cell_type": "markdown",
      "source": [
        "### Q3~Q6. Account 클래스 내 함수 생성\n",
        "- 클래스 변수 출력 메서드 : Account 클래스로부터 생성된 계좌의 개수 출력\n",
        "- 입금 메서드 : 입금을 위한 deposit 메서드 생성, 입금은 최소 1원 이상만 가능하다는 조건 부여\n",
        "- 출금 메서드 : 출금을 위한 withdraw 메서드 생성, 출금은 계좌의 잔고 이하의 금액만 가능하다는 조건 부여\n",
        "- 정보 출력 메서드 : Account 인스턴스에 저장된 정보 출력을 위한 display_info() 메서드 생성, 잔고는 세자리마다 쉼표를 출력하는 조건을 부여"
      ],
      "metadata": {
        "id": "zCVCI6GeFSC-"
      }
    },
    {
      "cell_type": "code",
      "source": [
        "import random           # 계좌번호 난수 생성을 위함\n",
        "\n",
        "class Account:\n",
        "    count_accounts = 0    # Q2. 클래스 변수 생성 : 계좌 개수 카운팅\n",
        "\n",
        "    def __init__(self, name, balance):  # Q1. 생성자 구현, 예금주(name), 초기 잔액(balance)만 입력 받기\n",
        "        self.deposit_count = 0      # Q7. 이자 지급을 위한 초기값 설정\n",
        "\n",
        "        self.name = name\n",
        "        self.balance = balance\n",
        "        self.bank = 'SC은행'\n",
        "\n",
        "        num1 = random.randint(0, 999)\n",
        "        num2 = random.randint(0, 99)\n",
        "        num3 = random.randint(0, 999999)\n",
        "\n",
        "        num1 = str(num1).zfill(3)   # 1 -> '1' -> '001'\n",
        "        num2 = str(num2).zfill(2)   # 1 -> '1' -> '01'\n",
        "        num3 = str(num3).zfill(6)   # 1 -> '1' -> '000001'\n",
        "\n",
        "        self.number = num1 + '-' + num2 + '-' + num3    # Q1. 계좌번호 랜덤 생성 : 001-01-000001\n",
        "\n",
        "        Account.count_accounts += 1   # Q2. 객체가 생성될 때마다 총 계좌 수 증가\n",
        "\n",
        "    @classmethod                      # Q3. 클래스메서드 사용\n",
        "    def get_account_num(cls):\n",
        "        print(cls.count_accounts)     # Q3. cls로 클래스 속성인 count_accounts로 접근하여 클래스 속성의 개수를 세준다.\n",
        "\n",
        "    def deposit(self, money):         # Q4. 입금을 위한 deposit() 메서드 추가\n",
        "        if money >= 1 :                # 1원 이상만 입금 가능한 조건\n",
        "            self.balance += money\n",
        "            return(f'입금 금액: {money}원, 잔고: {self.balance+money}원')\n",
        "\n",
        "            self.deposit_count += 1\n",
        "            if self.deposit_count % 5 == 0:      # Q7. 5의 배수를 활용하여 입금 횟수를 카운팅\n",
        "                # Q7. 이자 지급\n",
        "                self.balance = (self.balance * 1.01)\n",
        "\n",
        "        else :\n",
        "            print(f'입금은 최소 1원 이상만 가능합니다.')\n",
        "\n",
        "\n",
        "\n",
        "    def withdraw(self, money):       # Q5. 출금을 위한 withdraw() 메서드 추가\n",
        "        if self.balance > money :    # 잔고보다 더 많은 금액을 출금할 수 없다는 조건\n",
        "            self.balance -= money\n",
        "            return(f'출금 금액: {money}원, 잔고: {self.balance-money}원')\n",
        "        else:\n",
        "            print(f'출금은 계좌의 잔고 이상으로 출금할 수는 없습니다.')\n",
        "\n",
        "    def display_info(self):             # Q6. Account 인스턴스에 저장된 정보 출력\n",
        "        # 출력 형태 -> 은행이름: SC은행, 예금주: 파이썬, 계좌번호: 111-11-111111, 잔고: 10,000원\n",
        "        print(\"은행이름:\", f\"{self.bank},\", \"예금주:\", f\"{self.name},\", \"계좌번호:\", f\"{self.number},\", \"잔고:\", \"{:,}\".format(self.balance)+'원') # format 함수를 이용하여 잔고는 세자리마다 쉼표를 출력\n",
        "\n",
        "p = Account(\"파이썬\", 10000)\n",
        "p.display_info()"
      ],
      "metadata": {
        "id": "pO0u5dDKEp3G"
      },
      "execution_count": null,
      "outputs": []
    },
    {
      "cell_type": "markdown",
      "source": [
        "### Q7~9. 조건 추가 및 인스턴스 생성\n",
        "- 이자 지급하기\n",
        "    - 입금 5회 당 1번의 이자(1%)가 지급되어야 한다.\n",
        "    - 따라서 deposit() 내에 5회 단위로 카운팅 및 이자를 지급하는 if문을 추가하고, 생성자 함수 내에 이자 지급을 위한 초기값을 설정해주었다.\n",
        "- 여러 인스턴스(계좌) 생성하기 :\n",
        "    - 3개 이상의 인스턴스를 생성하여 리스트에 넣어주었다.\n",
        "- 잔고가 100만원 이상인 고객의 정보만 출력하기 :\n",
        "    - 객체 순회 반복문(for문)을 활용하여\n",
        "    - 잔고가 100만원 이상인 조건(if문)을 만족시킬 때 해당 고객 정보를 출력하였다."
      ],
      "metadata": {
        "id": "sdXs1whtP_q_"
      }
    },
    {
      "cell_type": "code",
      "source": [
        "import random           # 계좌번호 난수 생성을 위함\n",
        "\n",
        "class Account:\n",
        "    count_accounts = 0    # Q2. 클래스 변수 생성 : 계좌 개수 카운팅\n",
        "\n",
        "    def __init__(self, name, balance):  # Q1. 생성자 구현, 예금주(name), 초기 잔액(balance)만 입력 받기\n",
        "        self.deposit_count = 0      # Q7. 이자 지급을 위한 초기값 설정\n",
        "\n",
        "        self.name = name\n",
        "        self.balance = balance\n",
        "        self.bank = 'SC은행'\n",
        "\n",
        "        num1 = random.randint(0, 999)\n",
        "        num2 = random.randint(0, 99)\n",
        "        num3 = random.randint(0, 999999)\n",
        "\n",
        "        num1 = str(num1).zfill(3)   # 1 -> '1' -> '001'\n",
        "        num2 = str(num2).zfill(2)   # 1 -> '1' -> '01'\n",
        "        num3 = str(num3).zfill(6)   # 1 -> '1' -> '000001'\n",
        "\n",
        "        self.number = num1 + '-' + num2 + '-' + num3    # Q1. 계좌번호 랜덤 생성 : 001-01-000001\n",
        "\n",
        "        Account.count_accounts += 1   # Q2. 객체가 생성될 때마다 총 계좌 수 증가\n",
        "\n",
        "    @classmethod                      # Q3. 클래스메서드 사용\n",
        "    def get_account_num(cls):\n",
        "        print(cls.count_accounts)     # Q3. cls로 클래스 속성인 count_accounts로 접근하여 클래스 속성의 개수를 세준다.\n",
        "\n",
        "    def deposit(self, money):         # Q4. 입금을 위한 deposit() 메서드 추가\n",
        "        if money >= 1 :                # 1원 이상만 입금 가능한 조건\n",
        "            self.balance += money\n",
        "            return(f'입금 금액: {money}원, 잔고: {self.balance+money}원')\n",
        "\n",
        "            self.deposit_count += 1\n",
        "            if self.deposit_count % 5 == 0:      # Q7. 5의 배수를 활용하여 입금 횟수를 카운팅\n",
        "                # Q7. 이자 지급\n",
        "                self.balance = (self.balance * 1.01)\n",
        "\n",
        "        else :\n",
        "            print(f'입금은 최소 1원 이상만 가능합니다.')\n",
        "\n",
        "\n",
        "\n",
        "    def withdraw(self, money):       # Q5. 출금을 위한 withdraw() 메서드 추가\n",
        "        if self.balance > money :    # 잔고보다 더 많은 금액을 출금할 수 없다는 조건\n",
        "            self.balance -= money\n",
        "            return(f'출금 금액: {money}원, 잔고: {self.balance-money}원')\n",
        "        else:\n",
        "            print(f'출금은 계좌의 잔고 이상으로 출금할 수는 없습니다.')\n",
        "\n",
        "    def display_info(self):             # Q6. Account 인스턴스에 저장된 정보 출력\n",
        "        # 출력 형태 -> 은행이름: SC은행, 예금주: 파이썬, 계좌번호: 111-11-111111, 잔고: 10,000원\n",
        "        print(\"은행이름:\", f\"{self.bank},\", \"예금주:\", f\"{self.name},\", \"계좌번호:\", f\"{self.number},\", \"잔고:\", \"{:,}\".format(self.balance)+'원') # format 함수를 이용하여 잔고는 세자리마다 쉼표를 출력\n",
        "\n",
        "\n",
        "accounts_list = []              # Q8. 계좌(인스턴스) 리스트 생성\n",
        "kim = Account('김양희', 1000000)\n",
        "apple = Account('애플', 500000)\n",
        "google = Account('구글', 700000)\n",
        "\n",
        "accounts_list.append(kim)\n",
        "accounts_list.append(apple)\n",
        "\n",
        "for m in accounts_list:        # Q9. 객체 순회 반복문을 활용하여 리스트 내의 계좌 중 잔고가 100만원 이상인 계좌의 정보만 출력하기.\n",
        "    if m.balance >= 1000000:    # m은 million에서 약자를 따옴.\n",
        "        m.display_info()\n"
      ],
      "metadata": {
        "id": "PBSkOOp1EB2h"
      },
      "execution_count": null,
      "outputs": []
    },
    {
      "cell_type": "markdown",
      "source": [
        "### Q10. 입출금 내역\n",
        "- 입금, 출금 내역이 기록되도록 코드 업데이트\n",
        "    - self.deposit_record()와 self.withdraw_record()에 append()를 활용하여 <br> deposit(), withdraw()에 각각 입금, 출금이 발생할 때마다 내용을 추가함.\n",
        "- 입금, 출금 내역을 출력하는 deposit_history(), withdraw_history() 메서드 생성\n",
        "    - 생성자 함수 내에 입출금 내역 기록을 위한 초기값 리스트 설정\n",
        "    - 입출금 내역이 발생할 때마다 리스트에 내역이 저장되도록 입출금 내역 메서드 내에 for문 삽입"
      ],
      "metadata": {
        "id": "O7OJ_xpQTTFF"
      }
    },
    {
      "cell_type": "code",
      "source": [
        "import random           # 계좌번호 난수 생성을 위함\n",
        "\n",
        "class Account:\n",
        "    count_accounts = 0    # Q2. 클래스 변수 생성 : 계좌 개수 카운팅\n",
        "\n",
        "    def __init__(self, name, balance):  # Q1. 생성자 구현, 예금주(name), 초기 잔액(balance)만 입력 받기\n",
        "        self.deposit_count = 0      # Q7. 이자 지급을 위한 초기값 설정\n",
        "        self.deposit_record = []    # Q10. 입금 내역 기록을 위한 초기값 설정\n",
        "        self.withdraw_record = []   # Q10. 출금 내역 기록을 위한 초기값 설정\n",
        "\n",
        "        self.name = name\n",
        "        self.balance = balance\n",
        "        self.bank = 'SC은행'\n",
        "        # randint()를 활용하여 정수 난수 생성\n",
        "        num1 = random.randint(0, 999)\n",
        "        num2 = random.randint(0, 99)\n",
        "        num3 = random.randint(0, 999999)\n",
        "\n",
        "        num1 = str(num1).zfill(3)   # 1 -> '1' -> '001'\n",
        "        num2 = str(num2).zfill(2)   # 1 -> '1' -> '01'\n",
        "        num3 = str(num3).zfill(6)   # 1 -> '1' -> '000001'\n",
        "\n",
        "        self.number = num1 + '-' + num2 + '-' + num3    # Q1. 계좌번호 랜덤 생성 : 001-01-000001\n",
        "\n",
        "        Account.count_accounts += 1   # Q2. 객체가 생성될 때마다 총 계좌 수 증가\n",
        "\n",
        "    @classmethod                      # Q3. 클래스메서드 사용\n",
        "    def get_account_num(cls):\n",
        "        print(cls.count_accounts)     # Q3. cls로 클래스 속성인 count_accounts로 접근하여 클래스 속성의 개수를 세준다.\n",
        "\n",
        "    def deposit(self, money):         # Q4. 입금을 위한 deposit() 메서드 추가\n",
        "        if money >= 1 :                # 1원 이상만 입금 가능한 조건\n",
        "            self.balance += money\n",
        "\n",
        "            self.deposit_count += 1   # Q7. 입금 횟수 카운팅\n",
        "            if self.deposit_count % 5 == 0:      # Q7. 5의 배수를 활용하여 입금 5회 당 이자 1% 지급\n",
        "                # Q7. 이자 지급\n",
        "                self.balance = (self.balance * 1.01)\n",
        "\n",
        "            self.deposit_record.append(money)  # Q10. 입금 내역 기록 추가\n",
        "\n",
        "\n",
        "    # Q5. 출금을 위한 withdraw() 메서드 추가\n",
        "    def withdraw(self, money):\n",
        "        if self.balance > money :    # 잔고보다 더 많은 금액을 출금할 수 없다는 조건\n",
        "            self.balance -= money\n",
        "            self.withdraw_record.append(money)  # Q10. 입금 내역 기록 추가\n",
        "\n",
        "    # Q6. Account 인스턴스에 저장된 정보 출력\n",
        "    def display_info(self):\n",
        "        # 출력 형태 (은행이름: SC은행, 예금주: 파이썬, 계좌번호: 111-11-111111, 잔고: 10,000원)\n",
        "        print(\"은행이름:\", f\"{self.bank},\", \"예금주:\", f\"{self.name},\", \"계좌번호:\", f\"{self.number},\", \"잔고:\", \"{:,}\".format(self.balance)+'원') # format 함수를 이용하여 잔고는 세자리마다 쉼표를 출력\n",
        "\n",
        "    # Q10. 입금과 출금 내역 기록하기\n",
        "    def deposit_history(self):             # 입금 내역 기록 메서드\n",
        "        for money in self.deposit_record:\n",
        "            print(money)\n",
        "\n",
        "\n",
        "    def withdraw_history(self):            # 출금 내역 기록 메서드\n",
        "        for money in self.withdraw_record:\n",
        "            print(money)\n",
        "\n",
        "\n",
        "ms = Account(\"msoffice\", 5000)\n",
        "ms.deposit(100)\n",
        "ms.deposit(200)\n",
        "ms.deposit(300)\n",
        "ms.deposit_history()\n",
        "\n",
        "ms.withdraw(100)\n",
        "ms.withdraw(200)\n",
        "ms.withdraw_history()"
      ],
      "metadata": {
        "id": "738lqw0o-Edg"
      },
      "execution_count": null,
      "outputs": []
    },
    {
      "cell_type": "markdown",
      "source": [
        "---\n",
        "## 2. 회고"
      ],
      "metadata": {
        "id": "ZDJqFVZmVNbz"
      }
    },
    {
      "cell_type": "markdown",
      "source": [
        "### KEEP\n",
        "- 클래스 구조가 점차 익숙해짐\n",
        "- 구글링으로 조건에 맞는 코드를 구현 : format()으로 잔고에 ',' 표기 등\n",
        "\n",
        "### PROBLEM\n",
        "- a. 잔고에 ',' 표기가 나타나지 않음\n",
        "- b. 입출금 내역 기록을 위한 함수를 추가하였으나 출력이 안됨.\n",
        "\n",
        "### TRY\n",
        "- a. 잔고에 ','를 표기하기 위해 구분자 sep, 변환 문자 %s(문자열 데이터) 활용 등 다양한 시도 끝에 f-string으로 해결함.\n",
        "- b. 아래와 같이 해결함.\n",
        "    - 입금, 출금이 있을 때마다 내역을 deposit(), withdraw()에서 추가하지 않았기 때문\n",
        "    - self.deposit_record()와 self.withdraw_record()에 append()를 활용하여 deposit(), withdraw()에 각각 입금, 출금이 발생할 때마다 내용을 추가.\n",
        "- 다양한 함수 및 조건들을 만족하는 클래스를 만드는 연습을 통해 더욱 빠르게 완성할 수 있도록 익숙해져야겠다."
      ],
      "metadata": {
        "id": "bFZy1lAzVVWm"
      }
    },
    {
      "cell_type": "code",
      "source": [],
      "metadata": {
        "id": "FXdrGEt3Va7G"
      },
      "execution_count": null,
      "outputs": []
    }
  ]
}