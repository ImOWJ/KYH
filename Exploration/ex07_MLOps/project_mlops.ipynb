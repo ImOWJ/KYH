{
 "cells": [
  {
   "cell_type": "markdown",
   "id": "e8bc9197",
   "metadata": {},
   "source": [
    "# 프로젝트: CIFAR10 모델을 튜닝하고 배포하기!\n",
    "## 개요\n",
    "이번 프로젝트에서는 배운 프로젝트중에서 CIFAR10 프로젝트를 기반으로 데이터를 수정하고 하이퍼파라미터 튜닝을 한 다음 배포합니다.\n",
    "\n",
    "## 목차\n",
    "0. 모델 고정해서 사용하기\n",
    "1. Data Centric AI 맛보기\n",
    "2. 하이퍼파라미터 튜닝\n",
    "\n",
    "## 회고\n",
    "\n",
    "## Reference\n",
    "---"
   ]
  },
  {
   "cell_type": "code",
   "execution_count": 1,
   "id": "4adbb639",
   "metadata": {},
   "outputs": [
    {
     "name": "stdout",
     "output_type": "stream",
     "text": [
      "2.6.0\n"
     ]
    }
   ],
   "source": [
    "# 주요 라이브러리 버전 확인\n",
    "\n",
    "import tensorflow\n",
    "\n",
    "print(tensorflow.__version__)"
   ]
  },
  {
   "cell_type": "markdown",
   "id": "31ce318d",
   "metadata": {},
   "source": [
    "## 작업환경 구성하기"
   ]
  },
  {
   "cell_type": "code",
   "execution_count": 2,
   "id": "43dcf4c3",
   "metadata": {},
   "outputs": [
    {
     "name": "stdout",
     "output_type": "stream",
     "text": [
      "tensorflow 2.6.0\n",
      "imageio 2.9.0\n"
     ]
    }
   ],
   "source": [
    "# 패키지 불러오기\n",
    "import os     # 운영 체제와 상호 작용하기 위한 os 모듈\n",
    "import glob   # 파일 경로에 대한 패턴 매칭을 위한 glob 모듈\n",
    "import time   # 시간과 관련된 기능을 사용하기 위한 time 모듈\n",
    "\n",
    "import PIL          # 이미지 처리를 위한 Python Imaging Library인 PIL(Pillow)\n",
    "import imageio      # 이미지 입출력을 위한 imageio 모듈\n",
    "import numpy as np  # 다차원 배열 및 수학적 연산을 위한 NumPy 라이브러리\n",
    "import tensorflow as tf\n",
    "from tensorflow.keras import layers    # TensorFlow의 Keras API에서 층을 정의하는 데 사용되는 layers 모듈\n",
    "from IPython import display            # IPython의 display 모듈에서 display 함수. 주로 이미지나 동적인 콘텐츠를 출력하기 위해 사용\n",
    "import matplotlib.pyplot as plt        # 데이터 시각화를 위한 Matplotlib 라이브러리에서 pyplot 모듈\n",
    "%matplotlib inline\n",
    "# IPython 환경에서 Matplotlib의 그림을 인라인으로 표시하도록 하는 IPython 매직 명령어\n",
    "\n",
    "print(\"tensorflow\", tf.__version__)\n",
    "print(\"imageio\", imageio.__version__)"
   ]
  },
  {
   "cell_type": "markdown",
   "id": "4d6b6cd6",
   "metadata": {},
   "source": [
    "## 0. 모델 고정해서 사용하기\n",
    "이번 CIFAR10 프로젝트의 경우에는 모델을 고정해서 사용할 예정입니다. 모델의 경우에는 다음과 같은 그림으로 구성합니다!\n",
    "![모델](https://d3s0tskafalll9.cloudfront.net/media/images/Screenshot_from_2024-01-25_12-03-51.max-800x600.png)"
   ]
  },
  {
   "cell_type": "code",
   "execution_count": 3,
   "id": "3e28ae50",
   "metadata": {},
   "outputs": [],
   "source": [
    "from keras.models import Sequential\n",
    "from keras.layers import Conv2D, AveragePooling2D, BatchNormalization, Flatten, Dense, Dropout"
   ]
  },
  {
   "cell_type": "code",
   "execution_count": 5,
   "id": "4b120515",
   "metadata": {},
   "outputs": [
    {
     "name": "stdout",
     "output_type": "stream",
     "text": [
      "Model: \"sequential\"\n",
      "_________________________________________________________________\n",
      "Layer (type)                 Output Shape              Param #   \n",
      "=================================================================\n",
      "conv2d (Conv2D)              (None, 30, 30, 32)        896       \n",
      "_________________________________________________________________\n",
      "average_pooling2d (AveragePo (None, 15, 15, 32)        0         \n",
      "_________________________________________________________________\n",
      "batch_normalization (BatchNo (None, 15, 15, 32)        128       \n",
      "_________________________________________________________________\n",
      "conv2d_1 (Conv2D)            (None, 13, 13, 64)        18496     \n",
      "_________________________________________________________________\n",
      "average_pooling2d_1 (Average (None, 6, 6, 64)          0         \n",
      "_________________________________________________________________\n",
      "batch_normalization_1 (Batch (None, 6, 6, 64)          256       \n",
      "_________________________________________________________________\n",
      "flatten (Flatten)            (None, 2304)              0         \n",
      "_________________________________________________________________\n",
      "dense (Dense)                (None, 256)               590080    \n",
      "_________________________________________________________________\n",
      "dropout (Dropout)            (None, 256)               0         \n",
      "_________________________________________________________________\n",
      "dense_1 (Dense)              (None, 10)                2570      \n",
      "=================================================================\n",
      "Total params: 612,426\n",
      "Trainable params: 612,234\n",
      "Non-trainable params: 192\n",
      "_________________________________________________________________\n"
     ]
    }
   ],
   "source": [
    "# 모델 구성하기\n",
    "model = tf.keras.Sequential()\n",
    "\n",
    "model.add(layers.Input(shape=(30, 30, 3)))\n",
    "model.add(layers.Conv2D(32, (3, 3), padding='same', activation='relu'))\n",
    "model.add(AveragePooling2D())\n",
    "model.add(layers.BatchNormalization())\n",
    "model.add(layers.Conv2D(64, (3, 3), activation='relu'))\n",
    "model.add(AveragePooling2D())\n",
    "model.add(layers.BatchNormalization())\n",
    "model.add(Flatten())\n",
    "model.add(layers.Dense(256, activation='relu'))\n",
    "model.add(Dropout(0.4))\n",
    "model.add(Dense(10, activation='softmax'))\n",
    "\n",
    "model.summary()"
   ]
  },
  {
   "cell_type": "markdown",
   "id": "5f9d634e",
   "metadata": {},
   "source": [
    "## 데이터셋 구성하기"
   ]
  },
  {
   "cell_type": "code",
   "execution_count": 6,
   "id": "e30c5e4f",
   "metadata": {},
   "outputs": [
    {
     "name": "stdout",
     "output_type": "stream",
     "text": [
      "(50000, 32, 32, 3)\n",
      "(50000, 1)\n",
      "(10000, 32, 32, 3)\n",
      "(10000, 1)\n"
     ]
    }
   ],
   "source": [
    "# 데이터셋 불러오기\n",
    "\n",
    "cifar10 = tf.keras.datasets.cifar10\n",
    "\n",
    "(train_x, train_y), (test_x, test_y) = cifar10.load_data()\n",
    "\n",
    "print(train_x.shape)\n",
    "print(train_y.shape)\n",
    "print(test_x.shape)\n",
    "print(test_y.shape)"
   ]
  },
  {
   "cell_type": "code",
   "execution_count": 8,
   "id": "ccc40ac2",
   "metadata": {},
   "outputs": [],
   "source": [
    "# label 변환 - categorical을 활용하여 MNIST 데이터셋의 레이블을 원-핫 인코딩(one-hot encoding)으로 변환\n",
    "train_y = tf.keras.utils.to_categorical(train_y)\n",
    "test_y = tf.keras.utils.to_categorical(test_y)"
   ]
  },
  {
   "cell_type": "code",
   "execution_count": 11,
   "id": "de637d29",
   "metadata": {},
   "outputs": [
    {
     "name": "stdout",
     "output_type": "stream",
     "text": [
      "최소값: -1.0  최대값: 1.0\n"
     ]
    }
   ],
   "source": [
    "# 픽셀 값 정규화 : -1에서 1사이의 값으로\n",
    "train_x = (train_x - 127.5) / 127.5\n",
    "test_x = (test_x - 127.5) / 127.5\n",
    "\n",
    "print('최소값:',np.min(train_x), ' 최대값:',np.max(test_x))"
   ]
  },
  {
   "cell_type": "markdown",
   "id": "c8edd075",
   "metadata": {},
   "source": [
    "# 1. Data Centric AI 맛보기\n",
    "Data Centric AI를 정석적으로 진행한다면 훈련 데이터셋과 테스트 데이터셋을 전부 열어서 확인해서 틀린 것이 없는지 검수해야 합니다.   \n",
    "하지만 일일이 해볼만한 시간은 존재하지 않으니 사람들이 미리 검수했던 내용들을 기반으로 프로젝트를 진행하겠습니다.   \n",
    "- [labelerrors.com](https://labelerrors.com/)\n",
    "\n",
    "labelerrors.com은 Data Centric AI에서 가장 많이 활용하고 있는 파이썬 라이브러리인 cleanlab을 만든 개발자들이 공개한 사이트입니다.   \n",
    "labelerrors.com은 이름에서 알 수 있듯이 테스트 데이터와 label이 잘못 붙어 있는 사례를 모아 보여줍니다.  \n",
    "labelerrors.com에서 CIFAR10 테스트 데이터셋을 확인하고 아래 조그맣게 있는 ID를 기준으로 직접 데이터셋을 시각화하고 실제 label이 잘못 붙어있다면 label을 수정합니다."
   ]
  },
  {
   "cell_type": "code",
   "execution_count": 21,
   "id": "abcfc22c",
   "metadata": {},
   "outputs": [
    {
     "data": {
      "image/png": "[encoded data removed]",
      "text/plain": [
       "<Figure size 432x288 with 2 Axes>"
      ]
     },
     "metadata": {},
     "output_type": "display_data"
    }
   ],
   "source": [
    "plt.style.use('seaborn-white')\n",
    "\n",
    "plt.figure()\n",
    "plt.imshow((test_x[2405]*127.5 + 127.5)/255)\n",
    "plt.colorbar()\n",
    "plt.show()"
   ]
  },
  {
   "cell_type": "code",
   "execution_count": 26,
   "id": "a0dcdd36",
   "metadata": {},
   "outputs": [
    {
     "data": {
      "text/plain": [
       "['airplane',\n",
       " 'automobile',\n",
       " 'bird',\n",
       " 'cat',\n",
       " 'deer',\n",
       " 'dog',\n",
       " 'frog',\n",
       " 'horse',\n",
       " 'ship',\n",
       " 'truck']"
      ]
     },
     "execution_count": 26,
     "metadata": {},
     "output_type": "execute_result"
    }
   ],
   "source": [
    "# class_names 리스트 변수 만들기\n",
    "\n",
    "class_names = ['airplane', 'automobile', 'bird', 'cat', 'deer', 'dog', 'frog', 'horse', 'ship', 'truck']\n",
    "class_names"
   ]
  },
  {
   "cell_type": "code",
   "execution_count": 30,
   "id": "9b34cb22",
   "metadata": {},
   "outputs": [],
   "source": [
    "# 잘못된 라벨 수정\n",
    "\n",
    "test_y[2405]=6\n",
    "test_y[6877]=8\n",
    "test_y[8058]=7\n",
    "test_y[2532]=0\n",
    "test_y[7657]=7\n",
    "test_y[1969]=9\n",
    "test_y[2804]=5\n",
    "test_y[6792]=3\n",
    "test_y[1227]=5\n",
    "test_y[5191]=5\n",
    "test_y[5690]=4\n",
    "test_y[1718]=8\n",
    "test_y[2592]=4\n",
    "test_y[4794]=2\n",
    "test_y[5960]=3\n",
    "test_y[165]=4\n",
    "test_y[9227]=9\n",
    "test_y[5632]=5\n",
    "test_y[9352]=9\n",
    "test_y[7846]=3\n",
    "test_y[6966]=8\n",
    "test_y[5468]=3"
   ]
  },
  {
   "cell_type": "code",
   "execution_count": 10,
   "id": "263b5767",
   "metadata": {},
   "outputs": [
    {
     "data": {
      "image/png": "[encoded data removed]",
      "text/plain": [
       "<Figure size 720x360 with 10 Axes>"
      ]
     },
     "metadata": {
      "needs_background": "light"
     },
     "output_type": "display_data"
    }
   ],
   "source": [
    "# 10개 데이터 한 번에 확인하기 - for문 활용\n",
    "\n",
    "plt.figure(figsize=(10, 5))   # 이미지의 전체 프레임의 크기를 결정\n",
    "\n",
    "for i in range(10):\n",
    "    plt.subplot(2, 5, i+1)   # 여러 개의 이미지를 한 번에 띄우고 싶을 때에는 plt.subplot(row, col, index)의 형태로 확인\n",
    "    plt.imshow(train_x[i])\n",
    "    plt.title(f'index: {i}')\n",
    "    plt.axis('off')\n",
    "plt.show()"
   ]
  },
  {
   "cell_type": "code",
   "execution_count": 15,
   "id": "9e6074e2",
   "metadata": {},
   "outputs": [
    {
     "name": "stdout",
     "output_type": "stream",
     "text": [
      "(40000, 32, 32, 3)\n",
      "(10000, 32, 32, 3)\n",
      "(40000, 10)\n",
      "(10000, 10)\n"
     ]
    }
   ],
   "source": [
    "# train data와 validation data 80:20으로 나누기 (: )scikit-learn에 내장되어 있는 train_test_split 활용)\n",
    "\n",
    "from sklearn.model_selection import train_test_split\n",
    "\n",
    "X_train, X_val, y_train, y_val = train_test_split(train_x, train_y, test_size = 0.2)\n",
    "\n",
    "# 훈련, 검증 데이터와 레이블 종류가 몇 개인지 출력합니다.\n",
    "print(X_train.shape)\n",
    "print(X_val.shape)\n",
    "print(y_train.shape)\n",
    "print(y_val.shape)"
   ]
  },
  {
   "cell_type": "markdown",
   "id": "a46ecc4e",
   "metadata": {},
   "source": [
    "# 2. 하이퍼파라미터 튜닝\n",
    "위에 있는 모델을 기반으로 KerasTuner로 하이퍼파라미터 튜닝을 진행합니다.   \n",
    "튜닝한 하이퍼 파라미터로 학습을 진행하고 모델을 SavedModel 형식으로 저장합니다.  \n",
    "\n",
    "(주의사항)\n",
    "하이퍼 파라미터를 어느정도 범위로 주는지에 따라서 모델 튜닝속도가 달라집니다.  \n",
    "학습시간을 고려해서 하이퍼 파라미터 튜닝을 세팅해주세요!  "
   ]
  },
  {
   "cell_type": "markdown",
   "id": "dd1c0acb",
   "metadata": {},
   "source": [
    "**DeepTuner는**  \n",
    "- kerastuner.Tuner를 인자로 하는 class이며 \n",
    "- class에서 수행하는 함수는 run_trial, save_model load_model입니다.\n",
    "\n",
    "**run_trial 함수에서 제일 중요한 부분은 hypermodel과 trial**입니다.  \n",
    "- KerasTuner에서의 hypermodel : 모델을 공유 및 재사용하기 위해 검색 공간을 캡슐화하는 모델입니다. \n",
    "    - hypermodel의 경우 hp라는 인수를 활용해서 keras.Model을 생성합니다.\n",
    "    - 즉 hypermodel은 우리가 만들고 싶은 모델을 쌓는 과정을 거치는데 이때 하이퍼파라미터 튜닝에 대한 검색공간을 만들어줄때 hp라는 인수를 사용해서 만든 모델입니다.\n",
    "    - build 메소드 : 모델이 빌드가 되면서 하이퍼파라미터 튜닝이 시작합니다.\n",
    "        \n",
    "- trial : Oracle에 속하는 class입니다.\n",
    "    - Oracle이란 KerasTuner의 모든 검색 알고리즘에서 사용하는 기본 클래스이며 크게 RandomSearchOracle, BayesianOptimizationOracle, HyperbandOracle이 있습니다.\n",
    "    - 쉽게 설명하면 Oracle은 KerasTuner가 하이퍼파라미터를 정할 때 사용하는 알고리즘!\n",
    "    - 여기서 trial.hyperparameter는 Oracle이 찾아야 하는 하이퍼파라미터입니다. 즉 hypermodel에서의 hp입니다.\n",
    "    - 여기서는 model.fit()을 할때 batch_size도 고를 수 있게 만들었습니다."
   ]
  },
  {
   "cell_type": "code",
   "execution_count": 17,
   "id": "6f80d9f9",
   "metadata": {},
   "outputs": [
    {
     "ename": "ModuleNotFoundError",
     "evalue": "No module named 'kerastuner'",
     "output_type": "error",
     "traceback": [
      "\u001b[0;31m---------------------------------------------------------------------------\u001b[0m",
      "\u001b[0;31mModuleNotFoundError\u001b[0m                       Traceback (most recent call last)",
      "\u001b[0;32m/tmp/ipykernel_168/1890214740.py\u001b[0m in \u001b[0;36m<module>\u001b[0;34m\u001b[0m\n\u001b[1;32m      1\u001b[0m \u001b[0;31m# DeepTuner class 생성\u001b[0m\u001b[0;34m\u001b[0m\u001b[0;34m\u001b[0m\u001b[0m\n\u001b[1;32m      2\u001b[0m \u001b[0;34m\u001b[0m\u001b[0m\n\u001b[0;32m----> 3\u001b[0;31m \u001b[0;32mimport\u001b[0m \u001b[0mkerastuner\u001b[0m \u001b[0;32mas\u001b[0m \u001b[0mkt\u001b[0m\u001b[0;34m\u001b[0m\u001b[0;34m\u001b[0m\u001b[0m\n\u001b[0m\u001b[1;32m      4\u001b[0m \u001b[0;34m\u001b[0m\u001b[0m\n\u001b[1;32m      5\u001b[0m \u001b[0;32mclass\u001b[0m \u001b[0mDeepTuner\u001b[0m\u001b[0;34m(\u001b[0m\u001b[0mkt\u001b[0m\u001b[0;34m.\u001b[0m\u001b[0mTuner\u001b[0m\u001b[0;34m)\u001b[0m\u001b[0;34m:\u001b[0m\u001b[0;34m\u001b[0m\u001b[0;34m\u001b[0m\u001b[0m\n",
      "\u001b[0;31mModuleNotFoundError\u001b[0m: No module named 'kerastuner'"
     ]
    }
   ],
   "source": [
    "# DeepTuner class 생성\n",
    "\n",
    "import kerastuner as kt\n",
    "\n",
    "class DeepTuner(kt.Tuner):\n",
    "    def run_trial(self, trial, X, y, validation_data, **fit_kwargs):\n",
    "        # hypermodel을 사용하여 모델 아키텍처를 구성\n",
    "        model = self.hypermodel.build(trial.hyperparameters)\n",
    "        \n",
    "        # batch_size 하이퍼파라미터를 실험의 선택(16 또는 32)에 따라 동적으로 설정\n",
    "        # 훈련 프로세스를 구성하기 위한 추가 키워드 인수 (fit_kwargs)를 허용\n",
    "        model.fit(X, y, batch_size=trial.hyperparameters.Choice(\n",
    "            'batch_size', [16, 32]), **fit_kwargs)\n",
    "\n",
    "\n",
    "        X_val, y_val = validation_data\n",
    "        eval_scores = model.evaluate(X_val, y_val)\n",
    "        \n",
    "        # 검증 평가에서 모델의 메트릭과 해당 값을 포함하는 사전을 반환. 실험의 성능을 평가하고 하이퍼파라미터 검색 프로세스를 안내하는 데 사용\n",
    "        return {name: value for name, value in zip(\n",
    "            model.metrics_names,\n",
    "            eval_scores)}"
   ]
  },
  {
   "cell_type": "code",
   "execution_count": 18,
   "id": "7a0c3a95",
   "metadata": {},
   "outputs": [
    {
     "name": "stdout",
     "output_type": "stream",
     "text": [
      "Collecting keras-tuner\n",
      "  Downloading keras_tuner-1.4.6-py3-none-any.whl (128 kB)\n",
      "     |████████████████████████████████| 128 kB 5.5 MB/s            \n",
      "\u001b[?25hRequirement already satisfied: packaging in /opt/conda/lib/python3.9/site-packages (from keras-tuner) (21.3)\n",
      "Requirement already satisfied: requests in /opt/conda/lib/python3.9/site-packages (from keras-tuner) (2.26.0)\n",
      "Requirement already satisfied: keras in /opt/conda/lib/python3.9/site-packages (from keras-tuner) (2.6.0)\n",
      "Collecting kt-legacy\n",
      "  Downloading kt_legacy-1.0.5-py3-none-any.whl (9.6 kB)\n",
      "Requirement already satisfied: pyparsing!=3.0.5,>=2.0.2 in /opt/conda/lib/python3.9/site-packages (from packaging->keras-tuner) (3.0.6)\n",
      "Requirement already satisfied: urllib3<1.27,>=1.21.1 in /opt/conda/lib/python3.9/site-packages (from requests->keras-tuner) (1.26.7)\n",
      "Requirement already satisfied: certifi>=2017.4.17 in /opt/conda/lib/python3.9/site-packages (from requests->keras-tuner) (2021.10.8)\n",
      "Requirement already satisfied: idna<4,>=2.5 in /opt/conda/lib/python3.9/site-packages (from requests->keras-tuner) (2.10)\n",
      "Requirement already satisfied: charset-normalizer~=2.0.0 in /opt/conda/lib/python3.9/site-packages (from requests->keras-tuner) (2.0.8)\n",
      "Installing collected packages: kt-legacy, keras-tuner\n",
      "Successfully installed keras-tuner-1.4.6 kt-legacy-1.0.5\n",
      "\u001b[33mWARNING: Running pip as the 'root' user can result in broken permissions and conflicting behaviour with the system package manager. It is recommended to use a virtual environment instead: https://pip.pypa.io/warnings/venv\u001b[0m\n"
     ]
    }
   ],
   "source": [
    "!pip install keras-tuner"
   ]
  },
  {
   "cell_type": "code",
   "execution_count": 20,
   "id": "ed9a6a9b",
   "metadata": {},
   "outputs": [],
   "source": [
    "# DeepTuner class 생성\n",
    "\n",
    "import keras_tuner as kt\n",
    "\n",
    "class DeepTuner(kt.Tuner):\n",
    "    def run_trial(self, trial, X, y, validation_data, **fit_kwargs):\n",
    "        # hypermodel을 사용하여 모델 아키텍처를 구성\n",
    "        model = self.hypermodel.build(trial.hyperparameters)\n",
    "        \n",
    "        # batch_size 하이퍼파라미터를 실험의 선택(16 또는 32)에 따라 동적으로 설정\n",
    "        # 훈련 프로세스를 구성하기 위한 추가 키워드 인수 (fit_kwargs)를 허용\n",
    "        model.fit(X, y, batch_size=trial.hyperparameters.Choice(\n",
    "            'batch_size', [16, 32]), **fit_kwargs)\n",
    "\n",
    "\n",
    "        X_val, y_val = validation_data\n",
    "        eval_scores = model.evaluate(X_val, y_val)\n",
    "        \n",
    "        # 검증 평가에서 모델의 메트릭과 해당 값을 포함하는 사전을 반환. 실험의 성능을 평가하고 하이퍼파라미터 검색 프로세스를 안내하는 데 사용\n",
    "        return {name: value for name, value in zip(\n",
    "            model.metrics_names,\n",
    "            eval_scores)}"
   ]
  },
  {
   "cell_type": "markdown",
   "id": "ff98cd5d",
   "metadata": {},
   "source": [
    "## build_model 살펴보기\n",
    "build_model은 hypermodel을 만들어줘야 합니다. 여기서 만든 hypermodel은 총 2가지 기법이 들어가 있으며 주의사항도 1가지 있습니다.\n",
    "\n",
    "### 주의사항\n",
    "- 해당 모델의 경우 hypermodel이기 때문에 Input지정이 필수입니다! 그렇기에 넣고 싶은 모델에 대한 shape을 꼭 기재해야 합니다!\n",
    "\n",
    "### 기법\n",
    "- 첫번째 기법은 바로 layer의 숫자도 KerasTuner에게 맡겼습니다.  \n",
    "for문을 확인해보겠습니다.  \n",
    "    - 첫번째 for문의 경우 hp.Int로 만들어 검색공간은 정수로 만들고 가장 작은값을 1로 가장 큰값을 10으로 두었습니다.  \n",
    "    이렇게 설정하면 최소 1개에서 최소 10개의 layer를 쌓을 수 있게 설정할 수 있습니다.   \n",
    "    제가 쌓고싶은 layer는 conv2D인데 kernel_size는 (3,3)이며 차원수는 최소 32에서 최대 256으로 바꾸었습니다.\n",
    "\n",
    "    - 두번째 for문도 최소 1개에서 3개로 설정했지만 Dense Layer의 경우 나올 수 있는 차원을 32,64,128,256중 1개를 선택하도록 만들었습니다.\n",
    "\n",
    "이러한 방식으로 hypermodel을 만들면 하고싶은 하이퍼 파라미터 튜닝을 진행할 수 있습니다."
   ]
  },
  {
   "cell_type": "code",
   "execution_count": 36,
   "id": "cb9015c6",
   "metadata": {},
   "outputs": [],
   "source": [
    "# # 참고용 - build_model 함수 구현\n",
    "\n",
    "# def build_model(hp):\n",
    "#     model = tf.keras.Sequential()\n",
    "    \n",
    "#     # input layer\n",
    "#     model.add(tf.keras.Input(shape = X_train.shape[1:], name = 'inputs'))\n",
    "    \n",
    "#     # Conv layer\n",
    "#     for i in range(hp.Int('num_layers', min_value=1, max_value=10)):\n",
    "#               model.add(tf.keras.layers.Conv2D(hp.Int(\n",
    "#                   'units_{i}'.format(i=i), min_value=32, max_value=128, step=5), (3,3), activation='relu'))\n",
    "    \n",
    "#     # Flatten layer\n",
    "#     model.add(tf.keras.layers.Flatten())\n",
    "#     for i in range(hp.Int('n_connections', 1, 3)):\n",
    "#         model.add(tf.keras.layers.Dense(hp.Choice(f'n_nodes',\n",
    "#                                   values=[32,64,128,256]), activation = 'relu'))\n",
    "        \n",
    "#     model.add(tf.keras.layers.Dense(10, activation='softmax', name = 'outputs'))\n",
    "    \n",
    "#     model.compile(optimizer = 'adam',loss='categorical_crossentropy',\n",
    "#         metrics=['accuracy'])\n",
    "    \n",
    "#     return model\n",
    "\n",
    "# # Input layer에서 shape = X_train.shape[1:]\n",
    "# # X_train.shape은 (48000, 28, 28, 1)이므로 input layer shape은 28*28로 설정됨\n",
    "\n",
    "# # Conv layer에서 for i in range(hp.Int('num_layers', min_value=1, max_value=10)):\n",
    "# # 하이퍼파라미터 'num_layers'에 지정된 횟수만큼 반복하며 컨볼루션 층을 추가. \n",
    "# # hp.Int('num_layers', min_value=1, max_value=10)는 컨볼루션 층의 개수를 1부터 10 사이의 정수로 설정한 것\n",
    "\n",
    "# # hp.Int('units_{i}'.format(i=i), min_value=32, max_value=128, step=5): 컨볼루션 층의 필터 개수를 32부터 128까지 5의 간격으로 설정합니다.\n",
    "\n",
    "# # Flatten layer에서\n",
    "# # hp.Int('n_connections', 1, 3): Dense 층의 개수를 1부터 3 사이의 정수로 설정\n",
    "# # hp.Choice(f'n_nodes', values=[32,64,128, 256]): Dense 층의 노드 개수를 32, 64, 128, 256 중에서 선택합니다."
   ]
  },
  {
   "cell_type": "code",
   "execution_count": 49,
   "id": "402c6520",
   "metadata": {},
   "outputs": [],
   "source": [
    "# build_model 함수 구현\n",
    "\n",
    "def build_model(hp):\n",
    "    model = tf.keras.Sequential()\n",
    "    \n",
    "    # input layer\n",
    "    model.add(tf.keras.Input(shape = X_train.shape[1:], name = 'inputs'))\n",
    "\n",
    "    model.add(layers.Conv2D(32, (3, 3), padding='same', activation='relu'))\n",
    "    model.add(AveragePooling2D())\n",
    "    model.add(layers.BatchNormalization())\n",
    "    model.add(layers.Conv2D(64, (3, 3), activation='relu'))\n",
    "    model.add(AveragePooling2D())\n",
    "    model.add(layers.BatchNormalization())\n",
    "    model.add(Flatten())\n",
    "    model.add(layers.Dense(256, activation='relu'))\n",
    "    model.add(layers.Dropout(hp.Float('dropout_rate', min_value=0.0, max_value=0.5, default=0.2))) # <-- Added closing parenthesis here\n",
    "        \n",
    "    model.add(tf.keras.layers.Dense(10, activation='softmax', name = 'outputs'))\n",
    "    \n",
    "    model.compile(optimizer = 'adam',loss='categorical_crossentropy',\n",
    "        metrics=['accuracy'])\n",
    "    \n",
    "    return model"
   ]
  },
  {
   "cell_type": "markdown",
   "id": "87b4dbbd",
   "metadata": {},
   "source": [
    "## keras_tuner를 정의하고 탐색하기\n",
    "\n",
    "이번 모델의 경우 BayesianOptimizationOracle을 사용할 예정이며 목표는 accuracy와 max로 둘 예정입니다.   \n",
    "실제 trial은 10번으로 지정할 것입니다.  \n",
    "\n",
    "hypermodel은 build_model을 넣고 project이름도 작성합니다.  \n",
    "마지막으로 search함수에 X_train, Y_train, validation data, epoch을 넣고 탐색합니다!"
   ]
  },
  {
   "cell_type": "code",
   "execution_count": 50,
   "id": "ce34812d",
   "metadata": {},
   "outputs": [
    {
     "name": "stdout",
     "output_type": "stream",
     "text": [
      "Trial 10 Complete [00h 00m 24s]\n",
      "accuracy: 0.6909000277519226\n",
      "\n",
      "Best accuracy So Far: 0.7250000238418579\n",
      "Total elapsed time: 00h 03m 58s\n"
     ]
    }
   ],
   "source": [
    "# keras_tuner 정의하기\n",
    "\n",
    "# my_keras_tuner = DeepTuner(): DeepTuner 클래스의 객체를 생성\n",
    "my_keras_tuner = DeepTuner(\n",
    "    oracle=kt.oracles.BayesianOptimizationOracle(\n",
    "        objective=kt.Objective('accuracy', 'max'),\n",
    "        max_trials=10,\n",
    "        seed=42),\n",
    "    hypermodel=build_model,\n",
    "    overwrite=True,\n",
    "    project_name='my_keras_tuner')\n",
    "\n",
    "# objective=kt.Objective('accuracy', 'max'): 검증 데이터에서의 정확도를 최대화하는 목표를 설정\n",
    "# max_trials=10: 최대 10개의 하이퍼파라미터 조합을 시도\n",
    "# hypermodel=build_model(): 하이퍼파라미터 객체를 생성하는 함수를 지정\n",
    "# overwrite=True: 이전 결과를 덮어쓰도록 설정\n",
    "\n",
    "\n",
    "# 해당 모델 학습시간은 약 10분정도 걸립니다!\n",
    "my_keras_tuner.search(\n",
    "    X_train, y_train, validation_data=(X_val, y_val), epochs=3)"
   ]
  },
  {
   "cell_type": "markdown",
   "id": "8fc7e291",
   "metadata": {},
   "source": [
    "### 가장 좋은 모델 확인하기\n",
    "가장 좋은 모델을 뽑는 방법은 KerasTuner.get_best_hyperparamters를 이용해서 가장 좋은 하이퍼파라미터를 뽑아내는 작업입니다.  \n",
    "하이퍼파라미터를 뽑았으면 build_model()에 집어넣어 가장 좋은 모델을 선언합니다.  "
   ]
  },
  {
   "cell_type": "code",
   "execution_count": 51,
   "id": "1a93fc61",
   "metadata": {},
   "outputs": [
    {
     "name": "stdout",
     "output_type": "stream",
     "text": [
      "Model: \"sequential_40\"\n",
      "_________________________________________________________________\n",
      "Layer (type)                 Output Shape              Param #   \n",
      "=================================================================\n",
      "conv2d_126 (Conv2D)          (None, 32, 32, 32)        896       \n",
      "_________________________________________________________________\n",
      "average_pooling2d_56 (Averag (None, 16, 16, 32)        0         \n",
      "_________________________________________________________________\n",
      "batch_normalization_56 (Batc (None, 16, 16, 32)        128       \n",
      "_________________________________________________________________\n",
      "conv2d_127 (Conv2D)          (None, 14, 14, 64)        18496     \n",
      "_________________________________________________________________\n",
      "average_pooling2d_57 (Averag (None, 7, 7, 64)          0         \n",
      "_________________________________________________________________\n",
      "batch_normalization_57 (Batc (None, 7, 7, 64)          256       \n",
      "_________________________________________________________________\n",
      "flatten_40 (Flatten)         (None, 3136)              0         \n",
      "_________________________________________________________________\n",
      "dense_46 (Dense)             (None, 256)               803072    \n",
      "_________________________________________________________________\n",
      "dropout_28 (Dropout)         (None, 256)               0         \n",
      "_________________________________________________________________\n",
      "outputs (Dense)              (None, 10)                2570      \n",
      "=================================================================\n",
      "Total params: 825,418\n",
      "Trainable params: 825,226\n",
      "Non-trainable params: 192\n",
      "_________________________________________________________________\n"
     ]
    }
   ],
   "source": [
    "# best model 확인\n",
    "\n",
    "best_hps = my_keras_tuner.get_best_hyperparameters(num_trials=10)[0]\n",
    "model = build_model(best_hps)\n",
    "model.summary()\n",
    "\n",
    "# my_keras_tuner.get_best_hyperparameters(num_trials=10): Keras Tuner 객체에서 상위 10개 실험의 최적 하이퍼파라미터 조합을 가져옵니다.\n",
    "# [0]: 첫 번째 (가장 우수한) 하이퍼파라미터 조합을 추출하여 best_hps 변수에 저장합니다."
   ]
  },
  {
   "cell_type": "markdown",
   "id": "c84edbb5",
   "metadata": {},
   "source": [
    "최고의 하이퍼 파라미터만 뽑았기 때문에 아직 모델학습이 되지 않았습니다!  \n",
    "이번에 epoch을 5번 정도 주어서 모델학습을 진행합니다!  \n",
    "\n",
    "만일 무거운 모델을 돌릴 경우 하이퍼파라미터 튜닝작업이 매우 느려질 수 있습니다.  \n",
    "그때의 경우 하이퍼파라미터 튜닝할때 epoch을 3-4정도로 작게 주어 최고의 하이퍼파라미터를 뽑아낸 다음 본격적인 모델학습때 epoch을 넉넉하게 주는 것도 방법입니다"
   ]
  },
  {
   "cell_type": "code",
   "execution_count": 52,
   "id": "808080d8",
   "metadata": {},
   "outputs": [
    {
     "name": "stdout",
     "output_type": "stream",
     "text": [
      "Epoch 1/5\n",
      "1250/1250 [==============================] - 5s 3ms/step - loss: 1.4665 - accuracy: 0.5145\n",
      "Epoch 2/5\n",
      "1250/1250 [==============================] - 4s 3ms/step - loss: 0.9731 - accuracy: 0.6570\n",
      "Epoch 3/5\n",
      "1250/1250 [==============================] - 4s 3ms/step - loss: 0.7716 - accuracy: 0.7303\n",
      "Epoch 4/5\n",
      "1250/1250 [==============================] - 4s 3ms/step - loss: 0.6108 - accuracy: 0.7850\n",
      "Epoch 5/5\n",
      "1250/1250 [==============================] - 4s 3ms/step - loss: 0.4685 - accuracy: 0.8340\n"
     ]
    },
    {
     "data": {
      "text/plain": [
       "<keras.callbacks.History at 0x7f688e620c10>"
      ]
     },
     "execution_count": 52,
     "metadata": {},
     "output_type": "execute_result"
    }
   ],
   "source": [
    "# model fit\n",
    "\n",
    "model.fit(X_train, y_train, batch_size=32, epochs = 5)"
   ]
  },
  {
   "cell_type": "code",
   "execution_count": 54,
   "id": "b024d01d",
   "metadata": {},
   "outputs": [
    {
     "name": "stdout",
     "output_type": "stream",
     "text": [
      "313/313 [==============================] - 1s 3ms/step - loss: 1.7460 - accuracy: 0.7078\n"
     ]
    },
    {
     "data": {
      "text/plain": [
       "[1.7459994554519653, 0.7077999711036682]"
      ]
     },
     "execution_count": 54,
     "metadata": {},
     "output_type": "execute_result"
    }
   ],
   "source": [
    "# model evaluate\n",
    "\n",
    "model.evaluate(test_x, test_y)"
   ]
  },
  {
   "cell_type": "markdown",
   "id": "efd5f6e4",
   "metadata": {},
   "source": [
    "## 모델 저장\n",
    "\n",
    "우리가 이전까지 자주 사용한 저장방법은 HDF5파일 (.h5)로 저장하는 방법이었습니다.  \n",
    "HDF파일로 저장하는 방식은 이전 Keras에서 모델을 저장하는 방식이었으나 사실 이 방법은 TensorFlow나 Keras에서 그다지 선호하지 않는 저장방식입니다.  \n",
    "**TensorFlow의 경우 공식적으로 지원하는 모델 저장방식은 SavedModel**입니다.    \n",
    "\n",
    "**SavedModel**은 .h5파일처럼 모델의 가중치와 모델을 전부 하나의 파일로 관리하는 방식이 아닌 **모델, 가중치를 따로 구분해서 저장하는 방식**입니다.  \n",
    "\n",
    "SavedModel은 크게 3가지로 구성되어 있습니다.  \n",
    "- saved_model.pb : pb는 프로토콜 버퍼를 의미하며 해당 파일은 **내보낸 모델 그래프 구조를 포함**하고 있습니다.\n",
    "- variables : **내보낸 변수값이 있는 이진 파일과 내보낸 모델 그래프에 해당하는 체크포인트를 포함**하고 있습니다\n",
    "- assets : 내보낸 모델을 불러올 때 **추가적인 파일이 필요한 경우 이 폴더에 파일이 생성**됩니다.  \n",
    "이 방식으로 진행한다면 모델을 배포할 때 유리합니다.  \n",
    "\n",
    "Keras의 경우 .keras파일을 선호합니다. **.keras파일은 .h5파일과 마찬가지로 가중치와 모델을 전부 하나의 파일로 관리**합니다."
   ]
  },
  {
   "cell_type": "code",
   "execution_count": 55,
   "id": "220cd7a7",
   "metadata": {},
   "outputs": [
    {
     "name": "stdout",
     "output_type": "stream",
     "text": [
      "INFO:tensorflow:Assets written to: /aiffel/aiffel/mlops/best_model/project/model/assets\n"
     ]
    }
   ],
   "source": [
    "# model save\n",
    "\n",
    "save_path = os.getenv('HOME') + '/aiffel/mlops/best_model/project'\n",
    "fname = os.path.join(save_path, 'model')\n",
    "model.save(fname)"
   ]
  },
  {
   "cell_type": "markdown",
   "id": "d7bd4d1b",
   "metadata": {},
   "source": [
    "---\n",
    "## 회고\n",
    "### KEEP\n",
    "각 단계를 이해하면서 진행하려고 노력했다. \n",
    "\n",
    "### PROBLEM\n",
    "- 각 단계의 함수 내용이 잘 정리되지 않고 어렵다.\n",
    "- 노드에서 정해준 기준대로 모델의 shape 맞추는 것이 함수 내에서 구현은 어렵다. \n",
    "\n",
    "### TRY\n",
    "- 라벨 수정 for문 등 간단히 표현하는 방법 찾아보기\n",
    "- 각 단계의 함수 명확히 이해하기\n",
    "- 모델의 shape 다시 맞춰보기"
   ]
  }
 ],
 "metadata": {
  "kernelspec": {
   "display_name": "Python 3 (ipykernel)",
   "language": "python",
   "name": "python3"
  },
  "language_info": {
   "codemirror_mode": {
    "name": "ipython",
    "version": 3
   },
   "file_extension": ".py",
   "mimetype": "text/x-python",
   "name": "python",
   "nbconvert_exporter": "python",
   "pygments_lexer": "ipython3",
   "version": "3.9.7"
  }
 },
 "nbformat": 4,
 "nbformat_minor": 5
}
